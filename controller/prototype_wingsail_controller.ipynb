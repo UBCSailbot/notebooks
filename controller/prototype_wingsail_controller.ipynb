{
 "cells": [
  {
   "cell_type": "markdown",
   "metadata": {},
   "source": [
    "# Wingsail Controller Prototype"
   ]
  },
  {
   "cell_type": "code",
   "execution_count": 56,
   "metadata": {},
   "outputs": [
    {
     "name": "stdout",
     "output_type": "stream",
     "text": [
      "Defaulting to user installation because normal site-packages is not writeable\n",
      "Requirement already satisfied: numpy in /home/ros/.local/lib/python3.10/site-packages (1.26.2)\n",
      "Requirement already satisfied: scipy in /home/ros/.local/lib/python3.10/site-packages (1.11.4)\n",
      "Requirement already satisfied: matplotlib in /home/ros/.local/lib/python3.10/site-packages (3.8.2)\n",
      "Requirement already satisfied: packaging>=20.0 in /usr/lib/python3/dist-packages (from matplotlib) (21.3)\n",
      "Requirement already satisfied: cycler>=0.10 in /home/ros/.local/lib/python3.10/site-packages (from matplotlib) (0.12.1)\n",
      "Requirement already satisfied: pyparsing>=2.3.1 in /usr/lib/python3/dist-packages (from matplotlib) (2.4.7)\n",
      "Requirement already satisfied: contourpy>=1.0.1 in /home/ros/.local/lib/python3.10/site-packages (from matplotlib) (1.2.0)\n",
      "Requirement already satisfied: fonttools>=4.22.0 in /home/ros/.local/lib/python3.10/site-packages (from matplotlib) (4.45.1)\n",
      "Requirement already satisfied: pillow>=8 in /home/ros/.local/lib/python3.10/site-packages (from matplotlib) (10.1.0)\n",
      "Requirement already satisfied: python-dateutil>=2.7 in /usr/local/lib/python3.10/dist-packages (from matplotlib) (2.8.2)\n",
      "Requirement already satisfied: kiwisolver>=1.3.1 in /home/ros/.local/lib/python3.10/site-packages (from matplotlib) (1.4.5)\n",
      "Requirement already satisfied: six>=1.5 in /usr/lib/python3/dist-packages (from python-dateutil>=2.7->matplotlib) (1.16.0)\n"
     ]
    }
   ],
   "source": [
    "# Install Python dependencies\n",
    "!pip3 install numpy scipy matplotlib\n"
   ]
  },
  {
   "cell_type": "code",
   "execution_count": 57,
   "metadata": {},
   "outputs": [],
   "source": [
    "# Imports\n",
    "%matplotlib inline\n",
    "import numpy as np\n",
    "import matplotlib.pyplot as plt\n",
    "import math\n"
   ]
  },
  {
   "cell_type": "markdown",
   "metadata": {},
   "source": [
    "## Function `compute_reynolds_number` Implementation\n",
    "\n",
    "It takes the apparent wind speed and the chord width to computes the Reynold's number. \n",
    "\n",
    "$$Re = \\frac{V_{app}c}{k}$$\n",
    "\n",
    "where $V_{app}$ is the apparent wind speed, $c$ is the chord width of the mainsail, and $k$ is the kinematic viscosity of air. The kinematic viscosity is a constant value of $1.5 \\times 10^{-5} \\frac{m^2}{s}$, and the chord width is a constant value of $14 cm$ obtained from mech's design.\n",
    "\n",
    "```python"
   ]
  },
  {
   "cell_type": "code",
   "execution_count": 58,
   "metadata": {},
   "outputs": [],
   "source": [
    "CHORD_WIDTH_MAIN_SAIL = 0.14  # meters, trim tab chord width is not included\n",
    "KINEMATIC_VISCOSITY = 0.000014207  # {m^2 / s at 10degC} and air density at 1.225 {kg / m^3}\n",
    "\n",
    "\n",
    "def compute_reynolds_number(apparent_wind_speed):\n",
    "    \"\"\"\n",
    "    Computes the Reynolds number for the main sail.\n",
    "\n",
    "    Parameters:\n",
    "    - apparent_wind_speed (float): The apparent wind speed in meters per second.\n",
    "\n",
    "    Returns:\n",
    "    - reynolds_number (float): The computed Reynolds number for the main sail.\n",
    "    \"\"\"\n",
    "    reynolds_number = (apparent_wind_speed * CHORD_WIDTH_MAIN_SAIL) / KINEMATIC_VISCOSITY\n",
    "    return reynolds_number\n"
   ]
  },
  {
   "cell_type": "markdown",
   "metadata": {},
   "source": [
    "## Function `compute_angle_of_attack` Implementation\n",
    "\n",
    "It takes the Reynolds number and uses a lookup table to find the angle of attack."
   ]
  },
  {
   "cell_type": "code",
   "execution_count": 59,
   "metadata": {},
   "outputs": [],
   "source": [
    "def compute_angle_of_attack(reynolds_number, look_up_table):\n",
    "    \"\"\"\n",
    "    Computes the desired angle of attack based on Reynolds number and a lookup table.\n",
    "\n",
    "    Parameters:\n",
    "    - reynolds_number (float): The Reynolds number.\n",
    "    - look_up_table: A 2D numpy array containing Reynolds numbers in the first column\n",
    "      and corresponding desired angles of attack in the second column.\n",
    "\n",
    "    Returns:\n",
    "    - desired_alpha (float): The computed desired angle of attack based on the provided Reynolds number\n",
    "      and lookup table.\n",
    "    \"\"\"\n",
    "    desired_alpha = np.interp(reynolds_number, look_up_table[:, 0], look_up_table[:, 1])\n",
    "    return desired_alpha\n"
   ]
  },
  {
   "cell_type": "markdown",
   "metadata": {},
   "source": [
    "## Function `compute_trim_tab_angle` Implementation\n",
    "\n",
    "It takes the desired alpha value and computes the resulting trim tab angle. \n",
    "\n",
    "Computes the trim tab angle based on the desired angle of attack and the apparent wind direction. apparent_wind_direction will use degrees and follow same convention of WindSensor.msg (increases CW). Zero degrees means that the apparent wind is blowing from the bow to the stern of the boat. \n",
    "\n",
    "The reason that the trim tab is equal to the desired_alpha mirrored about the apparent wind direction is because the the wind will push the trim tab, effectively rotating the mainsail until the trim tab is in line with the apparent wind (The mainsail sits on a bearing and will not rotate unless the trim tab is being pushed by the wind). This means that if we want to rotate the mainsail x degrees, we need to rotate the trim tab -x degrees. "
   ]
  },
  {
   "cell_type": "code",
   "execution_count": 60,
   "metadata": {},
   "outputs": [],
   "source": [
    "def compute_trim_tab_angle(desired_alpha, apparent_wind_direction):\n",
    "    \"\"\"\n",
    "    Range: -180 < direction <= 180 for symmetry\n",
    "\n",
    "    Parameters:\n",
    "    - desired_alpha (float): The desired angle of attack.\n",
    "    - apparent_wind_direction (float): The apparent wind direction in degrees.\n",
    "\n",
    "    Returns:\n",
    "    - trim_tab_angle (float): The computed trim tab angle based on the provided desired angle of attack,\n",
    "      apparent wind direction, and boat direction.\n",
    "\n",
    "    \"\"\"\n",
    "    return math.copysign(desired_alpha, apparent_wind_direction)\n"
   ]
  },
  {
   "cell_type": "markdown",
   "metadata": {},
   "source": [
    "## Test `test_trim_tab_angle`:\n",
    "\n",
    "Takes in apparent wind speed, apparent wind direction and the look up table of reynolds values and angles of attack. It then computes the reynolds number, followed by the and the angle of attack (alpha value). It then computes the trim tab angle and prints it.\n"
   ]
  },
  {
   "cell_type": "code",
   "execution_count": 61,
   "metadata": {},
   "outputs": [],
   "source": [
    "def test_trim_tab_angle(apparent_wind_speed, apparent_wind_direction, look_up_table):\n",
    "    \"\"\"_summary_\n",
    "\n",
    "    Parameters:\n",
    "        apparent_wind_speed (float): the apparent wind speed of the boat\n",
    "        apparent_wind_direction (float): apparent wind direction in degrees\n",
    "        look_up_table (float, float): a 2D array containing Reynolds numbers in the first column\n",
    "        and corresponding desired angles of attack in the second column\n",
    "    \"\"\"\n",
    "    reynolds = compute_reynolds_number(apparent_wind_speed)\n",
    "    alpha = compute_angle_of_attack(reynolds, look_up_table)\n",
    "    trim_tab_angle = compute_trim_tab_angle(alpha, apparent_wind_direction)\n",
    "\n",
    "    print(\"Reynolds number: \", round(reynolds, 2))\n",
    "    print(\"Angle of attack: \", round(alpha, 2))\n",
    "    print(\"Trim tab angle: \", round(trim_tab_angle, 2))\n"
   ]
  },
  {
   "cell_type": "markdown",
   "metadata": {},
   "source": [
    "## Reynolds to Alpha Lookup Table\n",
    "lookup_table is a table that pairs reynolds numbers with angles of attack. The reynolds numbers are the keys and the angles of attack are the values. This table is sourced from [MECH testing](https://docs.google.com/spreadsheets/d/1rQuq55-VvUJRCS3mtuV4XycXq11VGx2vdJTXsl3EVNs/edit#gid=0) and is likely more accurate then the computations that would be done instead.\n",
    "\n",
    "| Reynolds Number | Angle of Attack |\n",
    "|-----------------|-----------------|\n",
    "| 50,000          | 5.75            |\n",
    "| 100,000         | 6.75            |\n",
    "| 200,000         | 7.00            |\n",
    "| 500,000         | 9.75            |\n",
    "| 1,000,000       | 10.00           |\n",
    "\n",
    "## Different Apparent Wind Speeds and Apparent Wind Directions as Inputs\n",
    "\n",
    "The following tests print the trim tab angle, Reynolds number, and angle of attack based on the provided inputs.\n"
   ]
  },
  {
   "cell_type": "code",
   "execution_count": 62,
   "metadata": {},
   "outputs": [
    {
     "name": "stdout",
     "output_type": "stream",
     "text": [
      "Reynolds number:  139931.02\n",
      "Angle of attack:  6.85\n",
      "Trim tab angle:  -6.85\n"
     ]
    }
   ],
   "source": [
    "apparent_wind_speed = 14.2  # m/s\n",
    "apparent_wind_direction = -23  # degrees\n",
    "look_up_table = np.array(\n",
    "    [[50000, 5.75], [100000, 6.75], [200000, 7], [500000, 9.75], [1000000, 10]]\n",
    ")  # reynolds number, angle of attack\n",
    "\n",
    "test_trim_tab_angle(apparent_wind_speed, apparent_wind_direction, look_up_table)\n"
   ]
  },
  {
   "cell_type": "code",
   "execution_count": 63,
   "metadata": {},
   "outputs": [
    {
     "name": "stdout",
     "output_type": "stream",
     "text": [
      "Reynolds number:  985429.72\n",
      "Angle of attack:  9.99\n",
      "Trim tab angle:  9.99\n"
     ]
    }
   ],
   "source": [
    "apparent_wind_speed = 100  # m/s\n",
    "apparent_wind_direction = 40  # degrees\n",
    "look_up_table = np.array(\n",
    "    [[50000, 5.75], [100000, 6.75], [200000, 7], [500000, 9.75], [1000000, 10]]\n",
    ")  # reynolds number, angle of attack\n",
    "\n",
    "test_trim_tab_angle(apparent_wind_speed, apparent_wind_direction, look_up_table)\n"
   ]
  },
  {
   "cell_type": "markdown",
   "metadata": {},
   "source": [
    "## Boat Diagram"
   ]
  },
  {
   "cell_type": "markdown",
   "metadata": {},
   "source": [
    "### Function definitions\n",
    "`angle` and `windDirection` parameters are values given in degrees and uses left hand coordinate system where positive \n",
    "angles represent clockwise rotation on the plot.\n",
    "\n",
    "`point` and `center` are 2 element arrays that represent a point on an XY cartesian plane. The plot used has the origin\n",
    "of the cartesian plane in the middle of the plot. Rhe x and y axis are the horizontal and vertical axises respectively.\n",
    "The first element represents the x value of the point while the second element represents the y value of the point.\n",
    "\n",
    "`obj` and `sail` are arrays of points (2 element arrays). These arrays represent objects that will be drawn on the plot.\n",
    "These arrays are iterated over and have a line from one point element to the next point element. The `sail` array has\n",
    "two sections, the main sail and the trim tab. The trim tab is represented by the last two points of the `sail` array.\n",
    "This convention is why the method `rotate_trimtab` exists. "
   ]
  },
  {
   "cell_type": "code",
   "execution_count": 64,
   "metadata": {},
   "outputs": [],
   "source": [
    "def rotatePointAroundPoint(point, center, angle):\n",
    "    \"\"\"\n",
    "    Returns a point represented by 2 element array (e.g. [x, y]) rotated around a center point\n",
    "    by angle in degrees. Rotation is done by translating point using center:\n",
    "    `translated_point` = `point` - `center`\n",
    "\n",
    "    then applies the rotation matrix:\n",
    "    `rotated_translated_point` = `rotation_matrix` @ `translated_point`\n",
    "\n",
    "    then translating the rotated point by center\n",
    "    `rotated_point` = `rotated_translated_point` + `center`\n",
    "\n",
    "    Parameters:\n",
    "        point (array): Point that will be rotated.\n",
    "        center (array): point used as center of rotation for point.\n",
    "        angle (float): angle in degrees to rotate point.\n",
    "\n",
    "    Returns:\n",
    "        rotated_point (array): Point that has been rotated.\n",
    "    \"\"\"\n",
    "\n",
    "    point = np.array(point)\n",
    "    center = np.array(center)\n",
    "\n",
    "    angle = math.radians(angle)\n",
    "    # angle = (angle / 360) * 2 * 3.14159 * -1\n",
    "\n",
    "    rotation_matrix = np.array(\n",
    "        [[np.cos(angle), np.sin(angle)], [-1 * np.sin(angle), np.cos(angle)]]\n",
    "    )\n",
    "\n",
    "    translated_point = point - center\n",
    "    rotated_point = rotation_matrix @ translated_point\n",
    "    rotated_point = rotated_point + center\n",
    "\n",
    "    return rotated_point\n",
    "\n",
    "\n",
    "def rotate_object_around_origin(obj, angle):\n",
    "    \"\"\"\n",
    "    Returns an object, represented by an array of points, with each point rotated around the\n",
    "    origin by angle degrees.\n",
    "\n",
    "    Parameters:\n",
    "        obj (array): Array of points that represents an object.\n",
    "        angle (float): angle in degrees to rotate object.\n",
    "\n",
    "    Returns:\n",
    "        obj (array): Array of points that represents an object, reach point rotated around the\n",
    "        origin.\n",
    "    \"\"\"\n",
    "    for i in range(len(obj)):\n",
    "        obj[i] = rotatePointAroundPoint(obj[i], [0, 0], angle)\n",
    "    return obj\n",
    "\n",
    "\n",
    "def rotate_trimtab(sail, angle):\n",
    "    \"\"\"\n",
    "    Returns an sail object, represented by an array of points, with the last point rotated around\n",
    "    the second to last point by angle degrees.\n",
    "\n",
    "    Parameters:\n",
    "        sail (array): Array of points that represents a sail object.\n",
    "        angle (float): angle in degrees to rotate last point of sail object.\n",
    "\n",
    "    Returns:\n",
    "        sail (array): Array of points that represents a sail object, with the last point rotated\n",
    "        around the second to last point.\n",
    "    \"\"\"\n",
    "    sail[-1] = rotatePointAroundPoint(sail[-1], sail[-2], angle)\n",
    "    return sail\n",
    "\n",
    "\n",
    "def drawWind(windDirection):\n",
    "    \"\"\"\n",
    "    Draws a wind arrow on a plot using the given wind angle in degrees following WindSensor.msg\n",
    "    convention.\n",
    "\n",
    "    Parameters:\n",
    "        windDirection (float): Wind direction given in angles\n",
    "\n",
    "    Returns:\n",
    "        none\n",
    "    \"\"\"\n",
    "    windTail = [0, 3]\n",
    "    windTail = rotatePointAroundPoint(windTail, [0, 0], windDirection)\n",
    "    windHead = [0, -2]\n",
    "    windHead = rotatePointAroundPoint(windHead, [0, 0], windDirection)\n",
    "    plt.arrow(\n",
    "        windTail[0],\n",
    "        windTail[1],\n",
    "        windHead[0],\n",
    "        windHead[1],\n",
    "        head_width=0.2,\n",
    "        head_length=0.3,\n",
    "        fc=\"black\",\n",
    "        ec=\"black\",\n",
    "        label=\"wind\",\n",
    "    )\n",
    "\n",
    "\n",
    "def drawBoat():\n",
    "    \"\"\"\n",
    "    Draws a boat on a plot with the bow of the boat pointing in the +y direction.\n",
    "\n",
    "    Returns:\n",
    "        none\n",
    "    \"\"\"\n",
    "    boat = [[0, 2], [-1, 1], [-1, -2], [1, -2], [1, 1], [0, 2]]\n",
    "    x_values = []\n",
    "    y_values = []\n",
    "    for i in range(len(boat)):\n",
    "        x_values.append(boat[i][0])\n",
    "        y_values.append(boat[i][1])\n",
    "\n",
    "    plt.plot(x_values, y_values, color=\"red\", alpha=0.5)\n",
    "\n",
    "\n",
    "def drawSail(sail):\n",
    "    \"\"\"\n",
    "    Draws a sail on the plot using the points contained in the sail object (array of points).\n",
    "\n",
    "    Parameters:\n",
    "        sail (array):Array of points that represents a sail object.\n",
    "\n",
    "    Returns:\n",
    "        none\n",
    "    \"\"\"\n",
    "    x_values = []\n",
    "    y_values = []\n",
    "    for i in range(len(sail)):\n",
    "        x_values.append(sail[i][0])\n",
    "        y_values.append(sail[i][1])\n",
    "\n",
    "    plt.plot(x_values[0:-3], y_values[0:-3], color=\"blue\", label=\"mainsail\")\n",
    "    plt.plot(x_values[-4:-2], y_values[-4:-2], color=\"black\", linestyle=\"dotted\")\n",
    "    plt.plot(x_values[-2:], y_values[-2:], color=\"green\", label=\"trimtab\")\n",
    "\n",
    "\n",
    "def showPlot():\n",
    "    \"\"\"\n",
    "    Prints out the plot.\n",
    "\n",
    "    Returns:\n",
    "        none\n",
    "    \"\"\"\n",
    "    plt.xlim(-7, 7)\n",
    "    plt.ylim(-5, 5)\n",
    "    plt.axhline(0, color=\"black\", linewidth=0.5)\n",
    "    plt.axvline(0, color=\"black\", linewidth=0.5)\n",
    "    plt.xticks([])\n",
    "    plt.yticks([])\n",
    "\n",
    "    plt.title(\"Boat Diagram\")\n",
    "\n",
    "    plt.legend(loc=\"upper left\")\n",
    "    plt.show()\n"
   ]
  },
  {
   "cell_type": "markdown",
   "metadata": {},
   "source": [
    "### Diagram Construction\n",
    "The fun section! \n",
    "1. Input wind speed and wind direction in Input section \n",
    "2. then press \"exceute cell and below\" to draw plot"
   ]
  },
  {
   "cell_type": "markdown",
   "metadata": {},
   "source": [
    "#### Input section"
   ]
  },
  {
   "cell_type": "code",
   "execution_count": 65,
   "metadata": {},
   "outputs": [],
   "source": [
    "# input section\n",
    "apparent_wind_speed = 100  # m/s\n",
    "wind_direction = -40  # degrees, follows WindSensor.msg convention\n",
    "look_up_table = np.array(\n",
    "    [[50000, 5.75], [100000, 6.75], [200000, 7], [500000, 9.75], [1000000, 10]]\n",
    ")  # [reynolds number, angle of attack(degrees)]\n"
   ]
  },
  {
   "cell_type": "markdown",
   "metadata": {},
   "source": [
    "#### Drawing section"
   ]
  },
  {
   "cell_type": "code",
   "execution_count": 66,
   "metadata": {},
   "outputs": [
    {
     "name": "stdout",
     "output_type": "stream",
     "text": [
      "Wind speed:  100  m/s\n",
      "Wind direction:  -40  degrees\n",
      "Reynolds number:  985429.72\n",
      "Angle of attack:  9.99  degrees\n",
      "Trim tab angle:  -9.99  degrees\n"
     ]
    },
    {
     "data": {
      "image/png": "[encoded data removed]",
      "text/plain": [
       "<Figure size 640x480 with 1 Axes>"
      ]
     },
     "metadata": {},
     "output_type": "display_data"
    }
   ],
   "source": [
    "# Determine trimtab angle\n",
    "reynolds = compute_reynolds_number(apparent_wind_speed)\n",
    "a = compute_angle_of_attack(reynolds, look_up_table)\n",
    "t = compute_trim_tab_angle(a, wind_direction)\n",
    "\n",
    "# print functions\n",
    "print(\"Wind speed: \", apparent_wind_speed, \" m/s\")\n",
    "print(\"Wind direction: \", wind_direction, \" degrees\")\n",
    "print(\"Reynolds number: \", round(reynolds, 2))\n",
    "print(\"Angle of attack: \", round(a, 2), \" degrees\")\n",
    "print(\"Trim tab angle: \", round(t, 2), \" degrees\")\n",
    "\n",
    "# construction and manipulation of wingsail\n",
    "wingsail = [[0, 2], [0, 0], [0, -3], [0, -5], [0, -3], [0, -5]]\n",
    "wingsail = rotate_object_around_origin(wingsail, wind_direction)\n",
    "wingsail = rotate_trimtab(wingsail, t)\n",
    "wingsail = rotate_object_around_origin(wingsail, -t)\n",
    "\n",
    "# Drawing commands\n",
    "drawWind(wind_direction)\n",
    "drawBoat()\n",
    "drawSail(wingsail)\n",
    "showPlot()\n"
   ]
  },
  {
   "cell_type": "markdown",
   "metadata": {},
   "source": [
    "## Future Considerations\n",
    "\n",
    "1. If the wind direction is in a range where the boat is in irons (wind direction is in the no go zone), the angle of\n",
    "attack should be set to zero. "
   ]
  }
 ],
 "metadata": {
  "kernelspec": {
   "display_name": "Python 3",
   "language": "python",
   "name": "python3"
  },
  "language_info": {
   "codemirror_mode": {
    "name": "ipython",
    "version": 3
   },
   "file_extension": ".py",
   "mimetype": "text/x-python",
   "name": "python",
   "nbconvert_exporter": "python",
   "pygments_lexer": "ipython3",
   "version": "3.10.12"
  }
 },
 "nbformat": 4,
 "nbformat_minor": 2
}
