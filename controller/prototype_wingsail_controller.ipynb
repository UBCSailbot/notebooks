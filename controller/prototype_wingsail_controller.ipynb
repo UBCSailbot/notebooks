{
 "cells": [
  {
   "cell_type": "markdown",
   "metadata": {},
   "source": [
    "# Wingsail Controller Prototype"
   ]
  },
  {
   "cell_type": "code",
   "execution_count": 41,
   "metadata": {},
   "outputs": [
    {
     "name": "stdout",
     "output_type": "stream",
     "text": [
      "Defaulting to user installation because normal site-packages is not writeable\n",
      "Requirement already satisfied: numpy in /home/ros/.local/lib/python3.10/site-packages (1.26.2)\n",
      "Requirement already satisfied: scipy in /home/ros/.local/lib/python3.10/site-packages (1.11.4)\n",
      "Requirement already satisfied: matplotlib in /home/ros/.local/lib/python3.10/site-packages (3.8.2)\n",
      "Requirement already satisfied: cycler>=0.10 in /home/ros/.local/lib/python3.10/site-packages (from matplotlib) (0.12.1)\n",
      "Requirement already satisfied: fonttools>=4.22.0 in /home/ros/.local/lib/python3.10/site-packages (from matplotlib) (4.45.1)\n",
      "Requirement already satisfied: python-dateutil>=2.7 in /usr/local/lib/python3.10/dist-packages (from matplotlib) (2.8.2)\n",
      "Requirement already satisfied: packaging>=20.0 in /usr/lib/python3/dist-packages (from matplotlib) (21.3)\n",
      "Requirement already satisfied: pillow>=8 in /home/ros/.local/lib/python3.10/site-packages (from matplotlib) (10.1.0)\n",
      "Requirement already satisfied: pyparsing>=2.3.1 in /usr/lib/python3/dist-packages (from matplotlib) (2.4.7)\n",
      "Requirement already satisfied: contourpy>=1.0.1 in /home/ros/.local/lib/python3.10/site-packages (from matplotlib) (1.2.0)\n",
      "Requirement already satisfied: kiwisolver>=1.3.1 in /home/ros/.local/lib/python3.10/site-packages (from matplotlib) (1.4.5)\n",
      "Requirement already satisfied: six>=1.5 in /usr/lib/python3/dist-packages (from python-dateutil>=2.7->matplotlib) (1.16.0)\n"
     ]
    }
   ],
   "source": [
    "# Install Python dependencies\n",
    "!pip3 install numpy scipy matplotlib\n"
   ]
  },
  {
   "cell_type": "code",
   "execution_count": 42,
   "metadata": {},
   "outputs": [],
   "source": [
    "# Imports\n",
    "%matplotlib inline\n",
    "import numpy as np\n",
    "import scipy\n",
    "import matplotlib.pyplot as plt\n"
   ]
  },
  {
   "cell_type": "markdown",
   "metadata": {},
   "source": [
    "## Function `compute_reynolds_number` Implementation\n",
    "\n",
    "It takes the apparent wind speed and the chord width to computes the Reynold's number. "
   ]
  },
  {
   "cell_type": "code",
   "execution_count": 43,
   "metadata": {},
   "outputs": [],
   "source": [
    "CHORD_WIDTH_MAIN_SAIL = 0.14  # meters, trim tab chord width is not included\n",
    "KINEMATIC_VISCOSITY = 0.000014207  # {m^2 / s at 10degC} and air density at 1.225 {kg / m^3}\n",
    "\n",
    "\n",
    "def compute_reynolds_number(apparent_wind_speed):\n",
    "    reynolds_number = (apparent_wind_speed * CHORD_WIDTH_MAIN_SAIL) / KINEMATIC_VISCOSITY\n",
    "    return reynolds_number\n"
   ]
  },
  {
   "cell_type": "markdown",
   "metadata": {},
   "source": [
    "## Function `compute_angle_of_attack` Implementation\n",
    "\n",
    "It takes the Reynolds number and uses a lookup table to find the angle of attack."
   ]
  },
  {
   "cell_type": "code",
   "execution_count": 44,
   "metadata": {},
   "outputs": [],
   "source": [
    "def compute_angle_of_attack(reynolds_number, look_up_table):\n",
    "    desired_alpha = np.interp(reynolds_number, look_up_table[:, 0], look_up_table[:, 1])\n",
    "    return desired_alpha\n"
   ]
  },
  {
   "cell_type": "markdown",
   "metadata": {},
   "source": [
    "## Function `compute_trim_tab_angle` Implementation\n",
    "\n",
    "It takes the desired alpha value and computes the resulting trim tab angle."
   ]
  },
  {
   "cell_type": "code",
   "execution_count": 45,
   "metadata": {},
   "outputs": [],
   "source": [
    "# wind_direction will use degrees unit and follow same convention of WindSensor.msg\n",
    "# 0° means the apparent wind is blowing from the bow to the stern of the boat, increase CW\n",
    "# Range: -180 < direction <= 180 for symmetry\n",
    "def compute_trim_tab_angle(desired_alpha, wind_direction, boat_direction):\n",
    "    # additional variables to be used in future more in depth calculations\n",
    "    if wind_direction >= 0:\n",
    "        trim_tab_angle = desired_alpha\n",
    "    else:\n",
    "        # wind_direction here helps dictate direction to rotate trim tab\n",
    "        trim_tab_angle = -desired_alpha\n",
    "\n",
    "    return trim_tab_angle\n"
   ]
  },
  {
   "cell_type": "markdown",
   "metadata": {},
   "source": [
    "## Testing sample values:"
   ]
  },
  {
   "cell_type": "code",
   "execution_count": 46,
   "metadata": {},
   "outputs": [
    {
     "name": "stdout",
     "output_type": "stream",
     "text": [
      "Reynolds number:  98542.97177447738\n",
      "Angle of attack:  6.7208594354895475\n",
      "Trim tab angle:  6.7208594354895475\n"
     ]
    }
   ],
   "source": [
    "apparent_wind_speed = 10  # m/s\n",
    "wind_direction = 0  # degrees\n",
    "boat_direction = 0  # degrees\n",
    "look_up_table = np.array(\n",
    "    [[50000, 5.75], [100000, 6.75], [200000, 7], [500000, 9.75], [1000000, 10]]\n",
    ")  # reynolds number, angle of attack\n",
    "\n",
    "reynolds = compute_reynolds_number(apparent_wind_speed)\n",
    "alpha = compute_angle_of_attack(reynolds, look_up_table)\n",
    "trim_tab_angle = compute_trim_tab_angle(alpha, wind_direction, boat_direction)\n",
    "\n",
    "print(\"Reynolds number: \", reynolds)\n",
    "print(\"Angle of attack: \", alpha)\n",
    "print(\"Trim tab angle: \", trim_tab_angle)\n"
   ]
  },
  {
   "cell_type": "markdown",
   "metadata": {},
   "source": [
    "## Test 2: Wind direction at 40 degrees"
   ]
  },
  {
   "cell_type": "code",
   "execution_count": 47,
   "metadata": {},
   "outputs": [
    {
     "name": "stdout",
     "output_type": "stream",
     "text": [
      "Reynolds number:  985429.7177447738\n",
      "Angle of attack:  9.992714858872388\n",
      "Trim tab angle:  9.992714858872388\n"
     ]
    }
   ],
   "source": [
    "apparent_wind_speed = 100  # m/s\n",
    "wind_direction = 40  # degrees\n",
    "boat_direction = 0  # degrees\n",
    "look_up_table = np.array(\n",
    "    [[50000, 5.75], [100000, 6.75], [200000, 7], [500000, 9.75], [1000000, 10]]\n",
    ")  # reynolds number, angle of attack\n",
    "\n",
    "reynolds = compute_reynolds_number(apparent_wind_speed)\n",
    "alpha = compute_angle_of_attack(reynolds, look_up_table)\n",
    "trim_tab_angle = compute_trim_tab_angle(alpha, wind_direction, boat_direction)\n",
    "\n",
    "print(\"Reynolds number: \", reynolds)\n",
    "print(\"Angle of attack: \", alpha)\n",
    "print(\"Trim tab angle: \", trim_tab_angle)\n"
   ]
  },
  {
   "cell_type": "markdown",
   "metadata": {},
   "source": [
    "## Boat Diagram"
   ]
  },
  {
   "cell_type": "markdown",
   "metadata": {},
   "source": [
    "### Function definitions"
   ]
  },
  {
   "cell_type": "code",
   "execution_count": 48,
   "metadata": {},
   "outputs": [],
   "source": [
    "def rotatePointAroundPoint(point, center, angle):\n",
    "    \"\"\"\n",
    "    Returns a point represented by 2 element array (e.g. [x, y]) rotated around a center point\n",
    "    by angle in degrees. Rotation is done by translating point using center:\n",
    "    translated_point = point - center\n",
    "\n",
    "    then applies the rotation matrix:\n",
    "    rotated_translated_point = rotation_matrix * translated_point\n",
    "\n",
    "    then translating the rotated point by center\n",
    "    rotated_point = rotated_translated_point + center\n",
    "\n",
    "    Parameters:\n",
    "        point (array): Point that will be rotated.\n",
    "        center (array): point used as center of rotation for point.\n",
    "        angle (float): angle in degrees to rotate point.\n",
    "\n",
    "    Returns:\n",
    "        rotated_point (array): Point that has been rotated.\n",
    "    \"\"\"\n",
    "\n",
    "    point = np.array(point)\n",
    "    center = np.array(center)\n",
    "\n",
    "    angle = (angle / 360) * 2 * 3.14159 * -1\n",
    "\n",
    "    rotation_matrix = np.array(\n",
    "        [[np.cos(angle), -1 * np.sin(angle)], [np.sin(angle), np.cos(angle)]]\n",
    "    )\n",
    "\n",
    "    translated_point = point - center\n",
    "    rotated_point = np.dot(rotation_matrix, translated_point)\n",
    "    rotated_point = rotated_point + center\n",
    "\n",
    "    return rotated_point\n",
    "\n",
    "\n",
    "def rotate_object_around_origin(obj, angle):\n",
    "    \"\"\"\n",
    "    Returns an object, represented by an array of points, with each point rotated around the\n",
    "    origin by angle degrees.\n",
    "\n",
    "    Parameters:\n",
    "        obj (array): Array of points that represents an object.\n",
    "        angle (float): angle in degrees to rotate object.\n",
    "\n",
    "    Returns:\n",
    "        obj (array): Array of points that represents an object, reach point rotated around the\n",
    "        origin.\n",
    "    \"\"\"\n",
    "    for i in range(len(obj)):\n",
    "        obj[i] = rotatePointAroundPoint(obj[i], [0, 0], angle)\n",
    "    return obj\n",
    "\n",
    "\n",
    "def rotate_trimtab(sail, angle):\n",
    "    \"\"\"\n",
    "    Returns an sail object, represented by an array of points, with the last point rotated around\n",
    "    the second to last point by angle degrees.\n",
    "\n",
    "    Parameters:\n",
    "        sail (array): Array of points that represents a sail object.\n",
    "        angle (float): angle in degrees to rotate last point of sail object.\n",
    "\n",
    "    Returns:\n",
    "        sail (array): Array of points that represents a sail object, with the last point rotated\n",
    "        around the second to last point.\n",
    "    \"\"\"\n",
    "    sail[-1] = rotatePointAroundPoint(sail[-1], sail[-2], angle)\n",
    "    return sail\n",
    "\n",
    "\n",
    "def drawWind(windDirection):\n",
    "    \"\"\"\n",
    "    Draws a wind arrow on a plot using the given wind angle in degrees following WindSensor.msg\n",
    "    convention.\n",
    "\n",
    "    Parameters:\n",
    "        windDirection (float): Wind direction given in angles\n",
    "\n",
    "    Returns:\n",
    "        void\n",
    "    \"\"\"\n",
    "    windTail = [0, 3]\n",
    "    windTail = rotatePointAroundPoint(windTail, [0, 0], windDirection)\n",
    "    windHead = [0, -2]\n",
    "    windHead = rotatePointAroundPoint(windHead, [0, 0], windDirection)\n",
    "    plt.arrow(\n",
    "        windTail[0],\n",
    "        windTail[1],\n",
    "        windHead[0],\n",
    "        windHead[1],\n",
    "        head_width=0.2,\n",
    "        head_length=0.3,\n",
    "        fc=\"black\",\n",
    "        ec=\"black\",\n",
    "        label=\"wind\",\n",
    "    )\n",
    "\n",
    "\n",
    "def drawBoat():\n",
    "    \"\"\"\n",
    "    Draws a boat on a plot with the bow of the boat pointing in the +y direction.\n",
    "\n",
    "    Returns:\n",
    "        void\n",
    "    \"\"\"\n",
    "    boat = [[0, 2], [-1, 1], [-1, -2], [1, -2], [1, 1], [0, 2]]\n",
    "    x_values = []\n",
    "    y_values = []\n",
    "    for i in range(len(boat)):\n",
    "        x_values.append(boat[i][0])\n",
    "        y_values.append(boat[i][1])\n",
    "\n",
    "    plt.plot(x_values, y_values, color=\"red\", alpha=0.5)\n",
    "\n",
    "\n",
    "def drawSail(sail):\n",
    "    \"\"\"\n",
    "    Draws a sail on the plot using the points contained in the sail object (array of points).\n",
    "\n",
    "    Parameters:\n",
    "        sail (array):Array of points that represents a sail object.\n",
    "\n",
    "    Returns:\n",
    "        void\n",
    "    \"\"\"\n",
    "    x_values = []\n",
    "    y_values = []\n",
    "    for i in range(len(sail)):\n",
    "        x_values.append(sail[i][0])\n",
    "        y_values.append(sail[i][1])\n",
    "\n",
    "    plt.plot(x_values[0:-3], y_values[0:-3], color=\"blue\", label=\"mainsail\")\n",
    "    plt.plot(x_values[-4:-2], y_values[-4:-2], color=\"black\", linestyle=\"dotted\")\n",
    "    plt.plot(x_values[-2:], y_values[-2:], color=\"green\", label=\"trimtab\")\n",
    "\n",
    "\n",
    "def showPlot():\n",
    "    \"\"\"\n",
    "    Prints out the plot.\n",
    "\n",
    "    Returns:\n",
    "        void\n",
    "    \"\"\"\n",
    "    plt.xlim(-7, 7)\n",
    "    plt.ylim(-5, 5)\n",
    "    plt.axhline(0, color=\"black\", linewidth=0.5)\n",
    "    plt.axvline(0, color=\"black\", linewidth=0.5)\n",
    "    plt.xticks([])\n",
    "    plt.yticks([])\n",
    "\n",
    "    plt.title(\"Boat Diagram\")\n",
    "\n",
    "    plt.legend(loc=\"upper left\")\n",
    "    plt.show()\n"
   ]
  },
  {
   "cell_type": "markdown",
   "metadata": {},
   "source": [
    "### Diagram Construction\n",
    "The fun section! \n",
    "1. Input wind speed and wind direction in Input section \n",
    "2. then press \"exceute cell and below\" to draw plot"
   ]
  },
  {
   "cell_type": "markdown",
   "metadata": {},
   "source": [
    "#### Input section"
   ]
  },
  {
   "cell_type": "code",
   "execution_count": 49,
   "metadata": {},
   "outputs": [],
   "source": [
    "# input section\n",
    "apparent_wind_speed = 100  # m/s\n",
    "wind_direction = -50  # degrees, follows WindSensor.msg convention\n",
    "look_up_table = np.array(\n",
    "    [[50000, 5.75], [100000, 6.75], [200000, 7], [500000, 9.75], [1000000, 10]]\n",
    ")  # [reynolds number, angle of attack(degrees)]\n"
   ]
  },
  {
   "cell_type": "markdown",
   "metadata": {},
   "source": [
    "#### Drawing section"
   ]
  },
  {
   "cell_type": "code",
   "execution_count": 50,
   "metadata": {},
   "outputs": [
    {
     "name": "stdout",
     "output_type": "stream",
     "text": [
      "Wind direction:  -50\n",
      "Reynolds number:  985429.7177447738\n",
      "Angle of attack:  9.992714858872388\n",
      "Trim tab angle:  -9.992714858872388\n"
     ]
    },
    {
     "data": {
      "image/png": "[encoded data removed]",
      "text/plain": [
       "<Figure size 640x480 with 1 Axes>"
      ]
     },
     "metadata": {},
     "output_type": "display_data"
    }
   ],
   "source": [
    "# Determine trimtab angle\n",
    "reynolds = compute_reynolds_number(apparent_wind_speed)\n",
    "a = compute_angle_of_attack(reynolds, look_up_table)\n",
    "t = compute_trim_tab_angle(a, wind_direction, 0)\n",
    "\n",
    "# print functions\n",
    "print(\"Wind direction: \", wind_direction)\n",
    "print(\"Reynolds number: \", reynolds)\n",
    "print(\"Angle of attack: \", a)\n",
    "print(\"Trim tab angle: \", t)\n",
    "\n",
    "# construction and manipulation of wingsail\n",
    "wingsail = [[0, 2], [0, 0], [0, -3], [0, -5], [0, -3], [0, -5]]\n",
    "wingsail = rotate_object_around_origin(wingsail, wind_direction)\n",
    "wingsail = rotate_trimtab(wingsail, t)\n",
    "wingsail = rotate_object_around_origin(wingsail, -t)\n",
    "\n",
    "# Drawing commands\n",
    "drawWind(wind_direction)\n",
    "drawBoat()\n",
    "drawSail(wingsail)\n",
    "showPlot()\n"
   ]
  },
  {
   "cell_type": "markdown",
   "metadata": {},
   "source": [
    "## Future Considerations\n",
    "\n",
    "1. If the wind direction is in a range where the boat is in irons (wind direction is in the no go zone), the angle of\n",
    "attack should be set to zero. "
   ]
  }
 ],
 "metadata": {
  "kernelspec": {
   "display_name": "Python 3",
   "language": "python",
   "name": "python3"
  },
  "language_info": {
   "codemirror_mode": {
    "name": "ipython",
    "version": 3
   },
   "file_extension": ".py",
   "mimetype": "text/x-python",
   "name": "python",
   "nbconvert_exporter": "python",
   "pygments_lexer": "ipython3",
   "version": "3.10.12"
  }
 },
 "nbformat": 4,
 "nbformat_minor": 2
}
