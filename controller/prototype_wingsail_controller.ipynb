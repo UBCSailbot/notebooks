{
 "cells": [
  {
   "cell_type": "markdown",
   "metadata": {},
   "source": [
    "# Wingsail Controller Prototype"
   ]
  },
  {
   "cell_type": "code",
   "execution_count": null,
   "metadata": {},
   "outputs": [],
   "source": [
    "# Install Python dependencies\n",
    "!pip3 install numpy scipy matplotlib\n"
   ]
  },
  {
   "cell_type": "code",
   "execution_count": null,
   "metadata": {},
   "outputs": [],
   "source": [
    "# Imports\n",
    "%matplotlib inline\n",
    "import numpy as np\n",
    "import scipy\n",
    "import matplotlib.pyplot as plt\n"
   ]
  },
  {
   "cell_type": "markdown",
   "metadata": {},
   "source": [
    "## Function `compute_reynolds_number` Implementation\n",
    "\n",
    "It takes the apparent wind speed and the chord width to computes the Reynold's number."
   ]
  },
  {
   "cell_type": "code",
   "execution_count": null,
   "metadata": {},
   "outputs": [],
   "source": [
    "CHORD_WIDTH_MAIN_SAIL = 0.14  # meters, trim tab chord width is not included\n",
    "KINEMATIC_VISCOSITY = 0.000014207  # {m^2 / s at 10degC} and air density at 1.225 {kg / m^3}\n",
    "\n",
    "\n",
    "def compute_reynolds_number(apparent_wind_speed):\n",
    "    reynolds_number = (apparent_wind_speed * CHORD_WIDTH_MAIN_SAIL) / KINEMATIC_VISCOSITY\n",
    "    return reynolds_number\n"
   ]
  },
  {
   "cell_type": "markdown",
   "metadata": {},
   "source": [
    "## Function `compute_angle_of_attack` Implementation\n",
    "\n",
    "It takes the Reynolds number and uses a lookup table to find the angle of attack."
   ]
  },
  {
   "cell_type": "code",
   "execution_count": null,
   "metadata": {},
   "outputs": [],
   "source": [
    "def compute_angle_of_attack(reynolds_number, look_up_table):\n",
    "    desired_alpha = np.interp(reynolds_number, look_up_table[:, 0], look_up_table[:, 1])\n",
    "    return desired_alpha\n"
   ]
  },
  {
   "cell_type": "markdown",
   "metadata": {},
   "source": [
    "## Function `compute_trim_tab_angle` Implementation\n",
    "\n",
    "It takes the desired alpha value and computes the resulting trim tab angle."
   ]
  },
  {
   "cell_type": "code",
   "execution_count": null,
   "metadata": {},
   "outputs": [],
   "source": [
    "def compute_trim_tab_angle(desired_alpha, wind_direction, boat_direction):\n",
    "    # additional variables to be used in future more in depth calculations\n",
    "    trim_tab_angle = -desired_alpha\n",
    "    return trim_tab_angle\n"
   ]
  },
  {
   "cell_type": "markdown",
   "metadata": {},
   "source": [
    "## Testing sample values:"
   ]
  },
  {
   "cell_type": "code",
   "execution_count": null,
   "metadata": {},
   "outputs": [],
   "source": []
  },
  {
   "cell_type": "code",
   "execution_count": null,
   "metadata": {},
   "outputs": [],
   "source": [
    "apparent_wind_speed = 10  # m/s\n",
    "wind_direction = 0  # degrees\n",
    "boat_direction = 0  # degrees\n",
    "look_up_table = np.array(\n",
    "    [[50000, 5.75], [100000, 6.75], [200000, 7], [500000, 9.75], [1000000, 10]]\n",
    ")  # reynolds number, angle of attack\n",
    "\n",
    "reynolds = compute_reynolds_number(apparent_wind_speed)\n",
    "alpha = compute_angle_of_attack(reynolds, look_up_table)\n",
    "trim_tab_angle = compute_trim_tab_angle(alpha, wind_direction, boat_direction)\n",
    "\n",
    "print(\"Reynolds number: \", reynolds)\n",
    "print(\"Angle of attack: \", alpha)\n",
    "print(\"Trim tab angle: \", trim_tab_angle)\n"
   ]
  },
  {
   "cell_type": "markdown",
   "metadata": {},
   "source": [
    "## Plot some stuff"
   ]
  },
  {
   "cell_type": "code",
   "execution_count": null,
   "metadata": {},
   "outputs": [],
   "source": [
    "# Reference: https://matplotlib.org/stable/gallery/lines_bars_and_markers/fill_between_demo.html#example-confidence-bands\n",
    "N = 21\n",
    "x = np.linspace(0, 10, 11)\n",
    "y = [3.9, 4.4, 10.8, 10.3, 11.2, 13.1, 14.1, 9.9, 13.9, 15.1, 12.5]\n",
    "\n",
    "# fit a linear curve and estimate its y-values and their error.\n",
    "a, b = np.polyfit(x, y, deg=1)\n",
    "y_est = a * x + b\n",
    "y_err = x.std() * np.sqrt(1 / len(x) + (x - x.mean()) ** 2 / np.sum((x - x.mean()) ** 2))\n",
    "\n",
    "fig, ax = plt.subplots()\n",
    "ax.plot(x, y_est, \"-\")\n",
    "ax.fill_between(x, y_est - y_err, y_est + y_err, alpha=0.2)\n",
    "ax.plot(x, y, \"o\", color=\"tab:brown\")\n"
   ]
  }
 ],
 "metadata": {
  "kernelspec": {
   "display_name": "Python 3",
   "language": "python",
   "name": "python3"
  },
  "language_info": {
   "codemirror_mode": {
    "name": "ipython",
    "version": 3
   },
   "file_extension": ".py",
   "mimetype": "text/x-python",
   "name": "python",
   "nbconvert_exporter": "python",
   "pygments_lexer": "ipython3",
   "version": "3.10.12"
  }
 },
 "nbformat": 4,
 "nbformat_minor": 2
}
